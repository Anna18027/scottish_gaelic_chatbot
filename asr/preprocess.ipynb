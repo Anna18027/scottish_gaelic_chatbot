{
 "cells": [
  {
   "cell_type": "code",
   "execution_count": 3,
   "id": "08522a71",
   "metadata": {},
   "outputs": [],
   "source": [
    "import librosa\n",
    "import soundfile as sf\n",
    "import os\n",
    "import re"
   ]
  },
  {
   "cell_type": "code",
   "execution_count": 4,
   "id": "17186e6d",
   "metadata": {},
   "outputs": [],
   "source": [
    "# return list of just cm's lines from the full transcript\n",
    "def extract_cm_lines(transcript_path):\n",
    "    cm_lines = []\n",
    "    with open(transcript_path, 'r', encoding='utf-8') as f:\n",
    "        for line in f:\n",
    "            line = line.strip()\n",
    "            if line.startswith(\"{CM}\"):\n",
    "                # removing punctuation to match to segments later\n",
    "                line_text = line[4:].strip().lower()\n",
    "                line_text = line_text.replace('’', \"'\")\n",
    "                line_text = re.sub(r\"[^\\w\\s’'-]\", '', line_text)\n",
    "                cm_lines.append(line_text)\n",
    "        with open(\"cm_lines.txt\", \"w\") as f:\n",
    "            for line in cm_lines:\n",
    "                f.write(line + '\\n')\n",
    "    return cm_lines"
   ]
  },
  {
   "cell_type": "code",
   "execution_count": 5,
   "id": "0dc7ebaa",
   "metadata": {},
   "outputs": [],
   "source": [
    "def load_segments_and_text(segments_path, prefix):\n",
    "    # segments is a dict with ID as key and timestamp tuple as value\n",
    "    segments = {}\n",
    "    with open(segments_path, 'r') as f:\n",
    "        for line in f:\n",
    "            if line.startswith(prefix):\n",
    "                parts = line.strip().split()\n",
    "                utt_id, start, end = parts[0], float(parts[2]), float(parts[3])\n",
    "                segments[utt_id] = (start, end)\n",
    "\n",
    "    return segments"
   ]
  },
  {
   "cell_type": "code",
   "execution_count": null,
   "id": "d7ad49ca",
   "metadata": {},
   "outputs": [],
   "source": [
    "# turning big wav into lots of small wavs\n",
    "# prefix is either cm or non_cm\n",
    "def extract_segments(audio_path, segments_dict, out_dir):\n",
    "    os.makedirs(out_dir, exist_ok=True)\n",
    "    # keeping original sr, may adjust when extracting spectrogram\n",
    "    y, sr = librosa.load(audio_path, sr=None)  # sr is 16000\n",
    "    for utt_id, (start, end) in segments_dict.items():\n",
    "        start_sample = int(start * sr)\n",
    "        end_sample = int(end * sr)\n",
    "        clip = y[start_sample:end_sample]\n",
    "        # e.g. output/cm/ CM-BBC_CMI_1995_06_21-0190.wav\n",
    "        out_path = os.path.join(out_dir, f\"{utt_id}.wav\")\n",
    "        sf.write(out_path, clip, sr)\n"
   ]
  },
  {
   "cell_type": "code",
   "execution_count": null,
   "id": "244e417e",
   "metadata": {},
   "outputs": [
    {
     "name": "stdout",
     "output_type": "stream",
     "text": [
      "16000\n",
      "16000\n"
     ]
    }
   ],
   "source": [
    "#transcript file provides full transcripts, with {CM} preceding his lines. speaker changes with line breaks.\n",
    "transcript_path = 'data/program_choinnich_speaker_labelled/transcripts/BBC_CMI_1995_06_21.txt'\n",
    "#segments file provides ID and timestamps in seconds\n",
    "segments_path = 'data/program_choinnich_speaker_labelled/data/segments'\n",
    "#text file provides ID and first few words of the transcript and is normalised\n",
    "# text_path = 'data/program_choinnich_speaker_labelled/data/text'\n",
    "# audio is just wav file\n",
    "audio_path = 'data/program_choinnich_speaker_labelled/wavs/BBC_CMI_1995_06_21.wav'\n",
    "\n",
    "cm_lines = extract_cm_lines(transcript_path)\n",
    "\n",
    "non_cm_segments = load_segments_and_text(segments_path, \"BBC_CMI_1995_06_21\")\n",
    "cm_segments = load_segments_and_text(segments_path, \"CM-BBC_CMI_1995_06_21\")\n",
    "\n",
    "# save cm and non-cm segments into different folders\n",
    "extract_segments(audio_path, cm_segments, 'segmented_wavs/cm')\n",
    "extract_segments(audio_path, non_cm_segments, 'segmented_wavs/non_cm')\n"
   ]
  },
  {
   "cell_type": "code",
   "execution_count": null,
   "id": "0ad50258",
   "metadata": {},
   "outputs": [],
   "source": []
  }
 ],
 "metadata": {
  "kernelspec": {
   "display_name": "base",
   "language": "python",
   "name": "python3"
  },
  "language_info": {
   "codemirror_mode": {
    "name": "ipython",
    "version": 3
   },
   "file_extension": ".py",
   "mimetype": "text/x-python",
   "name": "python",
   "nbconvert_exporter": "python",
   "pygments_lexer": "ipython3",
   "version": "3.12.2"
  }
 },
 "nbformat": 4,
 "nbformat_minor": 5
}
