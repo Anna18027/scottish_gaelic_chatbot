{
 "cells": [
  {
   "cell_type": "code",
   "execution_count": 35,
   "id": "0d660fb7",
   "metadata": {},
   "outputs": [],
   "source": [
    "#import libraries\n",
    "# from langdetect import detect\n",
    "import numpy\n",
    "from ftlangdetect import detect\n",
    "from fast_langdetect import detect_langs, parse_sentence, detect_multilingual"
   ]
  },
  {
   "cell_type": "code",
   "execution_count": 31,
   "id": "38240bb6",
   "metadata": {},
   "outputs": [
    {
     "data": {
      "text/plain": [
       "{'lang': 'en', 'score': 0.9925623536109924}"
      ]
     },
     "execution_count": 31,
     "metadata": {},
     "output_type": "execute_result"
    }
   ],
   "source": [
    "detect(\"This is some text that I'm writing\")"
   ]
  },
  {
   "cell_type": "code",
   "execution_count": 32,
   "id": "b27e23f3",
   "metadata": {},
   "outputs": [
    {
     "data": {
      "text/plain": [
       "{'lang': 'gd', 'score': 0.5837759971618652}"
      ]
     },
     "execution_count": 32,
     "metadata": {},
     "output_type": "execute_result"
    }
   ],
   "source": [
    "detect(\"tha mi sgìth an-diugh. ciamar a tha thu? a bheil i fuar a-muigh?\")"
   ]
  },
  {
   "cell_type": "code",
   "execution_count": 33,
   "id": "b01cafbb",
   "metadata": {},
   "outputs": [
    {
     "data": {
      "text/plain": [
       "{'lang': 'gd', 'score': 0.2715880572795868}"
      ]
     },
     "execution_count": 33,
     "metadata": {},
     "output_type": "execute_result"
    }
   ],
   "source": [
    "detect(\"ciamar a tha thu\")"
   ]
  },
  {
   "cell_type": "code",
   "execution_count": 34,
   "id": "c1243fde",
   "metadata": {},
   "outputs": [
    {
     "data": {
      "text/plain": [
       "{'lang': 'gd', 'score': 0.43757158517837524}"
      ]
     },
     "execution_count": 34,
     "metadata": {},
     "output_type": "execute_result"
    }
   ],
   "source": [
    "detect(\"ciamar a tha thu an-diugh\")"
   ]
  },
  {
   "cell_type": "code",
   "execution_count": 22,
   "id": "ca0b6f08",
   "metadata": {},
   "outputs": [
    {
     "data": {
      "text/plain": [
       "{'lang': 'en', 'score': 0.526563286781311}"
      ]
     },
     "execution_count": 22,
     "metadata": {},
     "output_type": "execute_result"
    }
   ],
   "source": [
    "detect(\"obh obh\")"
   ]
  },
  {
   "cell_type": "code",
   "execution_count": 28,
   "id": "b99cf460",
   "metadata": {},
   "outputs": [
    {
     "data": {
      "text/plain": [
       "'EN'"
      ]
     },
     "execution_count": 28,
     "metadata": {},
     "output_type": "execute_result"
    }
   ],
   "source": [
    "detect_langs(\"hello and goodbye\")"
   ]
  },
  {
   "cell_type": "code",
   "execution_count": 29,
   "id": "c09ca3db",
   "metadata": {},
   "outputs": [
    {
     "data": {
      "text/plain": [
       "'IT'"
      ]
     },
     "execution_count": 29,
     "metadata": {},
     "output_type": "execute_result"
    }
   ],
   "source": [
    "detect_langs(\"ciamar\")"
   ]
  },
  {
   "cell_type": "code",
   "execution_count": 37,
   "id": "9116b1ee",
   "metadata": {},
   "outputs": [
    {
     "data": {
      "text/plain": [
       "[{'text': \"hello agus ciamar a tha thu, es geht mir gut mais j'ai plein de choses à faire\",\n",
       "  'lang': 'FR',\n",
       "  'length': 78}]"
      ]
     },
     "execution_count": 37,
     "metadata": {},
     "output_type": "execute_result"
    }
   ],
   "source": [
    "parse_sentence(\"hello agus ciamar a tha thu, es geht mir gut mais j'ai plein de choses à faire\")"
   ]
  },
  {
   "cell_type": "code",
   "execution_count": 39,
   "id": "3fb7dbcf",
   "metadata": {},
   "outputs": [
    {
     "data": {
      "text/plain": [
       "[{'text': 'am Anfang ist dieser Satz auf Deutsch mais après je commence à parler français',\n",
       "  'lang': 'FR',\n",
       "  'length': 78}]"
      ]
     },
     "execution_count": 39,
     "metadata": {},
     "output_type": "execute_result"
    }
   ],
   "source": [
    "parse_sentence(\"am Anfang ist dieser Satz auf Deutsch mais après je commence à parler français\")"
   ]
  },
  {
   "cell_type": "code",
   "execution_count": 40,
   "id": "cd6f912b",
   "metadata": {},
   "outputs": [
    {
     "data": {
      "text/plain": [
       "[{'lang': 'fr', 'score': 0.6196349263191223},\n",
       " {'lang': 'de', 'score': 0.3589591383934021},\n",
       " {'lang': 'nds', 'score': 0.005401892587542534},\n",
       " {'lang': 'hu', 'score': 0.0024406532756984234},\n",
       " {'lang': 'sr', 'score': 0.0018860697746276855}]"
      ]
     },
     "execution_count": 40,
     "metadata": {},
     "output_type": "execute_result"
    }
   ],
   "source": [
    "detect_multilingual(\"am Anfang ist dieser Satz auf Deutsch mais après je commence à parler français\")"
   ]
  },
  {
   "cell_type": "code",
   "execution_count": 41,
   "id": "ca16eb04",
   "metadata": {},
   "outputs": [
    {
     "data": {
      "text/plain": [
       "{'lang': 'en', 'score': 0.9965611100196838}"
      ]
     },
     "execution_count": 41,
     "metadata": {},
     "output_type": "execute_result"
    }
   ],
   "source": [
    "detect(\"going\")"
   ]
  },
  {
   "cell_type": "code",
   "execution_count": 42,
   "id": "2ceaf663",
   "metadata": {},
   "outputs": [
    {
     "data": {
      "text/plain": [
       "{'lang': 'en', 'score': 0.7229617834091187}"
      ]
     },
     "execution_count": 42,
     "metadata": {},
     "output_type": "execute_result"
    }
   ],
   "source": [
    "detect(\"parliament\")"
   ]
  },
  {
   "cell_type": "code",
   "execution_count": 43,
   "id": "05538d76",
   "metadata": {},
   "outputs": [
    {
     "data": {
      "text/plain": [
       "{'lang': 'it', 'score': 0.7010732293128967}"
      ]
     },
     "execution_count": 43,
     "metadata": {},
     "output_type": "execute_result"
    }
   ],
   "source": [
    "detect(\"ciamar\")"
   ]
  },
  {
   "cell_type": "code",
   "execution_count": 44,
   "id": "75a9bcd8",
   "metadata": {},
   "outputs": [
    {
     "data": {
      "text/plain": [
       "{'lang': 'gd', 'score': 0.4633043110370636}"
      ]
     },
     "execution_count": 44,
     "metadata": {},
     "output_type": "execute_result"
    }
   ],
   "source": [
    "detect(\"tha\")"
   ]
  },
  {
   "cell_type": "code",
   "execution_count": 45,
   "id": "5a414b6c",
   "metadata": {},
   "outputs": [
    {
     "data": {
      "text/plain": [
       "{'lang': 'ga', 'score': 0.44272735714912415}"
      ]
     },
     "execution_count": 45,
     "metadata": {},
     "output_type": "execute_result"
    }
   ],
   "source": [
    "detect(\"sibh\")"
   ]
  },
  {
   "cell_type": "code",
   "execution_count": 46,
   "id": "e666394a",
   "metadata": {},
   "outputs": [
    {
     "data": {
      "text/plain": [
       "{'lang': 'en', 'score': 0.4461728632450104}"
      ]
     },
     "execution_count": 46,
     "metadata": {},
     "output_type": "execute_result"
    }
   ],
   "source": [
    "detect(\"a\")"
   ]
  },
  {
   "cell_type": "code",
   "execution_count": 50,
   "id": "40852c8e",
   "metadata": {},
   "outputs": [
    {
     "data": {
      "text/plain": [
       "{'lang': 'gd', 'score': 0.48102736473083496}"
      ]
     },
     "execution_count": 50,
     "metadata": {},
     "output_type": "execute_result"
    }
   ],
   "source": [
    "detect(\"agus ann an British council an-diugh\")"
   ]
  },
  {
   "cell_type": "code",
   "execution_count": 51,
   "id": "4eb7b73b",
   "metadata": {},
   "outputs": [
    {
     "data": {
      "text/plain": [
       "{'lang': 'gd', 'score': 0.20597431063652039}"
      ]
     },
     "execution_count": 51,
     "metadata": {},
     "output_type": "execute_result"
    }
   ],
   "source": [
    "detect(\"agus ann an British council an-diugh, thuirt no possible options\")"
   ]
  },
  {
   "cell_type": "code",
   "execution_count": 52,
   "id": "1325cba2",
   "metadata": {},
   "outputs": [
    {
     "data": {
      "text/plain": [
       "{'lang': 'en', 'score': 0.16206572949886322}"
      ]
     },
     "execution_count": 52,
     "metadata": {},
     "output_type": "execute_result"
    }
   ],
   "source": [
    "detect(\"agus ann an British council an-diugh, thuirt no possible options for turning\")"
   ]
  },
  {
   "cell_type": "code",
   "execution_count": null,
   "id": "cd3ec0f2",
   "metadata": {},
   "outputs": [],
   "source": []
  }
 ],
 "metadata": {
  "kernelspec": {
   "display_name": ".venv",
   "language": "python",
   "name": "python3"
  },
  "language_info": {
   "codemirror_mode": {
    "name": "ipython",
    "version": 3
   },
   "file_extension": ".py",
   "mimetype": "text/x-python",
   "name": "python",
   "nbconvert_exporter": "python",
   "pygments_lexer": "ipython3",
   "version": "3.11.13"
  }
 },
 "nbformat": 4,
 "nbformat_minor": 5
}
